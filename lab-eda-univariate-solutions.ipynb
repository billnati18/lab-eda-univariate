{
 "cells": [
  {
   "cell_type": "code",
   "execution_count": 3,
   "id": "5d228047",
   "metadata": {},
   "outputs": [],
   "source": [
    "import pandas as pd\n",
    "import matplotlib.pyplot as plt\n",
    "import seaborn as sns\n",
    "import numpy as np\n",
    "\n",
    "%matplotlib inline"
   ]
  },
  {
   "cell_type": "code",
   "execution_count": 4,
   "id": "fec14d06",
   "metadata": {},
   "outputs": [],
   "source": [
    "df = pd.read_csv(r\"C:\\Users\\billo\\Documents\\GitHub\\Unit 5 Labs\\lab-eda-univariate\\amz_uk_price_prediction_dataset.csv\")"
   ]
  },
  {
   "cell_type": "markdown",
   "id": "012f1e6b",
   "metadata": {},
   "source": [
    "## Part 1: Understanding Product Categories\n",
    "\n"
   ]
  },
  {
   "cell_type": "markdown",
   "id": "a98f0978",
   "metadata": {},
   "source": [
    "Business Question: What are the most popular product categories on Amazon UK, and how do they compare in terms of listing frequency?\n",
    "\n",
    "The most popular product categories on Amazon UK are sports & outdoors, beauty handmade clothing, shoes and accessoried, bath and body and birthday gifts. \n",
    "In terms of listing the most listed product category is sports and outdoors with 836,265 listings. "
   ]
  },
  {
   "cell_type": "markdown",
   "id": "d93bc9d9",
   "metadata": {},
   "source": [
    "Generate a frequency table for the product category.\n",
    "Which are the top 5 most listed product categories?\n",
    "\n",
    "Top 5 most listed products:\n",
    "\n",
    "1. Sports & Outdoors                         \n",
    "2. Beauty                                     \n",
    "3. Handmade Clothing, Shoes & Accessories     \n",
    "4. Bath & Body                                \n",
    "5. Birthday Gifts  \n",
    "\n",
    "\n"
   ]
  },
  {
   "cell_type": "code",
   "execution_count": 4,
   "id": "e6adede9",
   "metadata": {
    "scrolled": true
   },
   "outputs": [
    {
     "data": {
      "text/html": [
       "<div>\n",
       "<style scoped>\n",
       "    .dataframe tbody tr th:only-of-type {\n",
       "        vertical-align: middle;\n",
       "    }\n",
       "\n",
       "    .dataframe tbody tr th {\n",
       "        vertical-align: top;\n",
       "    }\n",
       "\n",
       "    .dataframe thead th {\n",
       "        text-align: right;\n",
       "    }\n",
       "</style>\n",
       "<table border=\"1\" class=\"dataframe\">\n",
       "  <thead>\n",
       "    <tr style=\"text-align: right;\">\n",
       "      <th></th>\n",
       "      <th>uid</th>\n",
       "      <th>asin</th>\n",
       "      <th>title</th>\n",
       "      <th>stars</th>\n",
       "      <th>reviews</th>\n",
       "      <th>price</th>\n",
       "      <th>isBestSeller</th>\n",
       "      <th>boughtInLastMonth</th>\n",
       "      <th>category</th>\n",
       "    </tr>\n",
       "  </thead>\n",
       "  <tbody>\n",
       "    <tr>\n",
       "      <th>0</th>\n",
       "      <td>1</td>\n",
       "      <td>B09B96TG33</td>\n",
       "      <td>Echo Dot (5th generation, 2022 release) | Big ...</td>\n",
       "      <td>4.7</td>\n",
       "      <td>15308</td>\n",
       "      <td>21.99</td>\n",
       "      <td>False</td>\n",
       "      <td>0</td>\n",
       "      <td>Hi-Fi Speakers</td>\n",
       "    </tr>\n",
       "    <tr>\n",
       "      <th>1</th>\n",
       "      <td>2</td>\n",
       "      <td>B01HTH3C8S</td>\n",
       "      <td>Anker Soundcore mini, Super-Portable Bluetooth...</td>\n",
       "      <td>4.7</td>\n",
       "      <td>98099</td>\n",
       "      <td>23.99</td>\n",
       "      <td>True</td>\n",
       "      <td>0</td>\n",
       "      <td>Hi-Fi Speakers</td>\n",
       "    </tr>\n",
       "    <tr>\n",
       "      <th>2</th>\n",
       "      <td>3</td>\n",
       "      <td>B09B8YWXDF</td>\n",
       "      <td>Echo Dot (5th generation, 2022 release) | Big ...</td>\n",
       "      <td>4.7</td>\n",
       "      <td>15308</td>\n",
       "      <td>21.99</td>\n",
       "      <td>False</td>\n",
       "      <td>0</td>\n",
       "      <td>Hi-Fi Speakers</td>\n",
       "    </tr>\n",
       "    <tr>\n",
       "      <th>3</th>\n",
       "      <td>4</td>\n",
       "      <td>B09B8T5VGV</td>\n",
       "      <td>Echo Dot with clock (5th generation, 2022 rele...</td>\n",
       "      <td>4.7</td>\n",
       "      <td>7205</td>\n",
       "      <td>31.99</td>\n",
       "      <td>False</td>\n",
       "      <td>0</td>\n",
       "      <td>Hi-Fi Speakers</td>\n",
       "    </tr>\n",
       "    <tr>\n",
       "      <th>4</th>\n",
       "      <td>5</td>\n",
       "      <td>B09WX6QD65</td>\n",
       "      <td>Introducing Echo Pop | Full sound compact Wi-F...</td>\n",
       "      <td>4.6</td>\n",
       "      <td>1881</td>\n",
       "      <td>17.99</td>\n",
       "      <td>False</td>\n",
       "      <td>0</td>\n",
       "      <td>Hi-Fi Speakers</td>\n",
       "    </tr>\n",
       "    <tr>\n",
       "      <th>...</th>\n",
       "      <td>...</td>\n",
       "      <td>...</td>\n",
       "      <td>...</td>\n",
       "      <td>...</td>\n",
       "      <td>...</td>\n",
       "      <td>...</td>\n",
       "      <td>...</td>\n",
       "      <td>...</td>\n",
       "      <td>...</td>\n",
       "    </tr>\n",
       "    <tr>\n",
       "      <th>2443646</th>\n",
       "      <td>2828589</td>\n",
       "      <td>B0CHSD7P2Q</td>\n",
       "      <td>Motorbike Armour, Motorbike Clothing, Cycling ...</td>\n",
       "      <td>0.0</td>\n",
       "      <td>0</td>\n",
       "      <td>22.34</td>\n",
       "      <td>False</td>\n",
       "      <td>0</td>\n",
       "      <td>Motorbike Clothing</td>\n",
       "    </tr>\n",
       "    <tr>\n",
       "      <th>2443647</th>\n",
       "      <td>2828590</td>\n",
       "      <td>B0B7B8FNBQ</td>\n",
       "      <td>PROFIRST Waterproof Motorcycle 2 Piece Ladies ...</td>\n",
       "      <td>0.0</td>\n",
       "      <td>0</td>\n",
       "      <td>97.99</td>\n",
       "      <td>False</td>\n",
       "      <td>0</td>\n",
       "      <td>Motorbike Clothing</td>\n",
       "    </tr>\n",
       "    <tr>\n",
       "      <th>2443648</th>\n",
       "      <td>2828591</td>\n",
       "      <td>B0BD5FL5FB</td>\n",
       "      <td>Men’s Motorcycle Motorbike Biker Trousers Kevl...</td>\n",
       "      <td>0.0</td>\n",
       "      <td>0</td>\n",
       "      <td>52.99</td>\n",
       "      <td>False</td>\n",
       "      <td>0</td>\n",
       "      <td>Motorbike Clothing</td>\n",
       "    </tr>\n",
       "    <tr>\n",
       "      <th>2443649</th>\n",
       "      <td>2828592</td>\n",
       "      <td>B008OYLL4I</td>\n",
       "      <td>Texpeed Mens Motorcycle Motorbike Biker Trouse...</td>\n",
       "      <td>4.3</td>\n",
       "      <td>404</td>\n",
       "      <td>79.99</td>\n",
       "      <td>False</td>\n",
       "      <td>0</td>\n",
       "      <td>Motorbike Clothing</td>\n",
       "    </tr>\n",
       "    <tr>\n",
       "      <th>2443650</th>\n",
       "      <td>2828593</td>\n",
       "      <td>B08P3W9B3T</td>\n",
       "      <td>RIDEX CJ223 Motorcycle Motorbike Jacket Armour...</td>\n",
       "      <td>4.5</td>\n",
       "      <td>34</td>\n",
       "      <td>53.99</td>\n",
       "      <td>False</td>\n",
       "      <td>0</td>\n",
       "      <td>Motorbike Clothing</td>\n",
       "    </tr>\n",
       "  </tbody>\n",
       "</table>\n",
       "<p>2443651 rows × 9 columns</p>\n",
       "</div>"
      ],
      "text/plain": [
       "             uid        asin  \\\n",
       "0              1  B09B96TG33   \n",
       "1              2  B01HTH3C8S   \n",
       "2              3  B09B8YWXDF   \n",
       "3              4  B09B8T5VGV   \n",
       "4              5  B09WX6QD65   \n",
       "...          ...         ...   \n",
       "2443646  2828589  B0CHSD7P2Q   \n",
       "2443647  2828590  B0B7B8FNBQ   \n",
       "2443648  2828591  B0BD5FL5FB   \n",
       "2443649  2828592  B008OYLL4I   \n",
       "2443650  2828593  B08P3W9B3T   \n",
       "\n",
       "                                                     title  stars  reviews  \\\n",
       "0        Echo Dot (5th generation, 2022 release) | Big ...    4.7    15308   \n",
       "1        Anker Soundcore mini, Super-Portable Bluetooth...    4.7    98099   \n",
       "2        Echo Dot (5th generation, 2022 release) | Big ...    4.7    15308   \n",
       "3        Echo Dot with clock (5th generation, 2022 rele...    4.7     7205   \n",
       "4        Introducing Echo Pop | Full sound compact Wi-F...    4.6     1881   \n",
       "...                                                    ...    ...      ...   \n",
       "2443646  Motorbike Armour, Motorbike Clothing, Cycling ...    0.0        0   \n",
       "2443647  PROFIRST Waterproof Motorcycle 2 Piece Ladies ...    0.0        0   \n",
       "2443648  Men’s Motorcycle Motorbike Biker Trousers Kevl...    0.0        0   \n",
       "2443649  Texpeed Mens Motorcycle Motorbike Biker Trouse...    4.3      404   \n",
       "2443650  RIDEX CJ223 Motorcycle Motorbike Jacket Armour...    4.5       34   \n",
       "\n",
       "         price  isBestSeller  boughtInLastMonth            category  \n",
       "0        21.99         False                  0      Hi-Fi Speakers  \n",
       "1        23.99          True                  0      Hi-Fi Speakers  \n",
       "2        21.99         False                  0      Hi-Fi Speakers  \n",
       "3        31.99         False                  0      Hi-Fi Speakers  \n",
       "4        17.99         False                  0      Hi-Fi Speakers  \n",
       "...        ...           ...                ...                 ...  \n",
       "2443646  22.34         False                  0  Motorbike Clothing  \n",
       "2443647  97.99         False                  0  Motorbike Clothing  \n",
       "2443648  52.99         False                  0  Motorbike Clothing  \n",
       "2443649  79.99         False                  0  Motorbike Clothing  \n",
       "2443650  53.99         False                  0  Motorbike Clothing  \n",
       "\n",
       "[2443651 rows x 9 columns]"
      ]
     },
     "execution_count": 4,
     "metadata": {},
     "output_type": "execute_result"
    }
   ],
   "source": [
    "df\n"
   ]
  },
  {
   "cell_type": "code",
   "execution_count": 6,
   "id": "388f2a4a",
   "metadata": {},
   "outputs": [
    {
     "data": {
      "text/plain": [
       "category\n",
       "Sports & Outdoors                         836265\n",
       "Beauty                                     19312\n",
       "Handmade Clothing, Shoes & Accessories     19229\n",
       "Bath & Body                                19092\n",
       "Birthday Gifts                             18978\n",
       "Name: count, dtype: int64"
      ]
     },
     "execution_count": 6,
     "metadata": {},
     "output_type": "execute_result"
    }
   ],
   "source": [
    "frequency_table = df['category'].value_counts().head(5)\n",
    "frequency_table"
   ]
  },
  {
   "cell_type": "markdown",
   "id": "fc1a883f",
   "metadata": {},
   "source": [
    "Visualizations:\n",
    "\n",
    "Display the distribution of products across different categories using a bar chart. \n",
    "\n",
    "If you face problems understanding the chart, do it for a subset of top categories.\n",
    "\n",
    "For a subset of top categories, visualize their proportions using a pie chart. Does any category dominate the listings"
   ]
  },
  {
   "cell_type": "code",
   "execution_count": 7,
   "id": "f830390b",
   "metadata": {},
   "outputs": [
    {
     "data": {
      "text/plain": [
       "(array([0, 1, 2, 3, 4]),\n",
       " [Text(0, 0, 'Sports & Outdoors'),\n",
       "  Text(1, 0, 'Beauty'),\n",
       "  Text(2, 0, 'Handmade Clothing, Shoes & Accessories'),\n",
       "  Text(3, 0, 'Bath & Body'),\n",
       "  Text(4, 0, 'Birthday Gifts')])"
      ]
     },
     "execution_count": 7,
     "metadata": {},
     "output_type": "execute_result"
    },
    {
     "data": {
      "image/png": "[encoded data removed]",
      "text/plain": [
       "<Figure size 640x480 with 1 Axes>"
      ]
     },
     "metadata": {},
     "output_type": "display_data"
    }
   ],
   "source": [
    "sns.barplot(x=frequency_table.index, y=frequency_table.values, palette=\"Set3\");\n",
    "plt.xticks(rotation=70)\n"
   ]
  },
  {
   "cell_type": "code",
   "execution_count": 10,
   "id": "fdd75d2c",
   "metadata": {},
   "outputs": [
    {
     "data": {
      "text/plain": [
       "<matplotlib.legend.Legend at 0x22db416de50>"
      ]
     },
     "execution_count": 10,
     "metadata": {},
     "output_type": "execute_result"
    },
    {
     "data": {
      "image/png": "[encoded data removed]",
      "text/plain": [
       "<Figure size 640x480 with 1 Axes>"
      ]
     },
     "metadata": {},
     "output_type": "display_data"
    }
   ],
   "source": [
    "frequency_table.plot.pie(y='count')\n",
    "plt.legend()"
   ]
  },
  {
   "cell_type": "markdown",
   "id": "d6359799",
   "metadata": {},
   "source": [
    "## Part 2: Delving into Product Pricing\n"
   ]
  },
  {
   "cell_type": "markdown",
   "id": "fb82e095",
   "metadata": {},
   "source": [
    "Business Question: How are products priced on Amazon UK, and are there specific price points or ranges that are more common?"
   ]
  },
  {
   "cell_type": "markdown",
   "id": "94c11bfa",
   "metadata": {},
   "source": [
    "Measures of Centrality:\n",
    "\n",
    "Calculate the mean, median, and mode for the price of products.\n",
    "What's the average price point of products listed? How does this compare with the most common price point (mode)?\n",
    "\n",
    "The average price point of products listed is $89.24.\n",
    "\n",
    "This price is much higer than the most common price point which is $9.99."
   ]
  },
  {
   "cell_type": "code",
   "execution_count": 38,
   "id": "bcd5544e",
   "metadata": {},
   "outputs": [
    {
     "data": {
      "text/plain": [
       "89.24380943923663"
      ]
     },
     "execution_count": 38,
     "metadata": {},
     "output_type": "execute_result"
    }
   ],
   "source": [
    "df['price'].mean()"
   ]
  },
  {
   "cell_type": "code",
   "execution_count": 39,
   "id": "6905712f",
   "metadata": {},
   "outputs": [
    {
     "data": {
      "text/plain": [
       "19.09"
      ]
     },
     "execution_count": 39,
     "metadata": {},
     "output_type": "execute_result"
    }
   ],
   "source": [
    "df['price'].median()"
   ]
  },
  {
   "cell_type": "code",
   "execution_count": 36,
   "id": "297227cd",
   "metadata": {},
   "outputs": [
    {
     "data": {
      "text/plain": [
       "0    9.99\n",
       "Name: price, dtype: float64"
      ]
     },
     "execution_count": 36,
     "metadata": {},
     "output_type": "execute_result"
    }
   ],
   "source": [
    "df['price'].mode()"
   ]
  },
  {
   "cell_type": "markdown",
   "id": "f7eefe3b",
   "metadata": {},
   "source": [
    "Measures of Dispersion:\n",
    "\n",
    "Determine the variance, standard deviation, range, and interquartile range for product price.\n",
    "How varied are the product prices? Are there any indicators of a significant spread in prices?\n",
    "\n",
    "The product prices are varied, I guess depending on the product category. \n",
    "\n",
    "Their is a significant spred in prices seeing that the range_price is $100,000.00"
   ]
  },
  {
   "cell_type": "code",
   "execution_count": 40,
   "id": "ec446280",
   "metadata": {},
   "outputs": [
    {
     "data": {
      "text/plain": [
       "119445.48532256528"
      ]
     },
     "execution_count": 40,
     "metadata": {},
     "output_type": "execute_result"
    }
   ],
   "source": [
    "df['price'].var()"
   ]
  },
  {
   "cell_type": "code",
   "execution_count": 41,
   "id": "27570d79",
   "metadata": {},
   "outputs": [
    {
     "data": {
      "text/plain": [
       "345.60886175352226"
      ]
     },
     "execution_count": 41,
     "metadata": {},
     "output_type": "execute_result"
    }
   ],
   "source": [
    "df['price'].std()"
   ]
  },
  {
   "cell_type": "code",
   "execution_count": 42,
   "id": "dd56a1e8",
   "metadata": {},
   "outputs": [
    {
     "data": {
      "text/plain": [
       "100000.0"
      ]
     },
     "execution_count": 42,
     "metadata": {},
     "output_type": "execute_result"
    }
   ],
   "source": [
    "range_price = df['price'].max()-df['price'].min()\n",
    "range_price"
   ]
  },
  {
   "cell_type": "code",
   "execution_count": 12,
   "id": "1f314260",
   "metadata": {},
   "outputs": [
    {
     "data": {
      "text/plain": [
       "36.0"
      ]
     },
     "execution_count": 12,
     "metadata": {},
     "output_type": "execute_result"
    }
   ],
   "source": [
    "IQR = df['price'].quantile(0.75)- df['price'].quantile(0.25)\n",
    "IQR"
   ]
  },
  {
   "cell_type": "markdown",
   "id": "f7f28c04",
   "metadata": {},
   "source": [
    "Visualizations:\n",
    "\n",
    "Is there a specific price range where most products fall? \n",
    "Plot a histogram to visualize the distribution of product prices. \n",
    "\n",
    "If its hard to read these diagrams, think why this is, and explain how it could be solved.\n",
    "\n",
    "Are there products that are priced significantly higher than the rest? \n",
    "Use a box plot to showcase the spread and potential outliers in product pricing."
   ]
  },
  {
   "cell_type": "code",
   "execution_count": 17,
   "id": "dc2f62fd",
   "metadata": {},
   "outputs": [
    {
     "data": {
      "text/plain": [
       "<Axes: >"
      ]
     },
     "execution_count": 17,
     "metadata": {},
     "output_type": "execute_result"
    },
    {
     "data": {
      "image/png": "[encoded data removed]",
      "text/plain": [
       "<Figure size 640x480 with 1 Axes>"
      ]
     },
     "metadata": {},
     "output_type": "display_data"
    }
   ],
   "source": [
    "df['price'].hist()"
   ]
  },
  {
   "cell_type": "code",
   "execution_count": 16,
   "id": "8be5fb9f",
   "metadata": {},
   "outputs": [
    {
     "data": {
      "text/plain": [
       "<Axes: >"
      ]
     },
     "execution_count": 16,
     "metadata": {},
     "output_type": "execute_result"
    },
    {
     "data": {
      "image/png": "[encoded data removed]",
      "text/plain": [
       "<Figure size 640x480 with 1 Axes>"
      ]
     },
     "metadata": {},
     "output_type": "display_data"
    }
   ],
   "source": [
    "df.query('price<100').boxplot(column = ['price'])"
   ]
  },
  {
   "cell_type": "markdown",
   "id": "476fca4e",
   "metadata": {},
   "source": [
    "## Part 3: Unpacking Product Ratings\n",
    "Business Question: How do customers rate products on Amazon UK, and are there any patterns or tendencies in the ratings?"
   ]
  },
  {
   "cell_type": "markdown",
   "id": "3ca220a6",
   "metadata": {},
   "source": [
    "Measures of Centrality:\n",
    "\n",
    "Calculate the mean, median, and mode for the rating of products.\n",
    "How do customers generally rate products? Is there a common trend?\n",
    "\n",
    "Seeing this data we can infer that most of the customer dont rate products or if they do is only when the product is bad or defective. "
   ]
  },
  {
   "cell_type": "code",
   "execution_count": 48,
   "id": "80a0df5e",
   "metadata": {},
   "outputs": [
    {
     "data": {
      "text/plain": [
       "2.152836472966065"
      ]
     },
     "execution_count": 48,
     "metadata": {},
     "output_type": "execute_result"
    }
   ],
   "source": [
    "df['stars'].mean()"
   ]
  },
  {
   "cell_type": "code",
   "execution_count": 49,
   "id": "c06947e6",
   "metadata": {},
   "outputs": [
    {
     "data": {
      "text/plain": [
       "0.0"
      ]
     },
     "execution_count": 49,
     "metadata": {},
     "output_type": "execute_result"
    }
   ],
   "source": [
    "df['stars'].median()"
   ]
  },
  {
   "cell_type": "code",
   "execution_count": 50,
   "id": "92c93c90",
   "metadata": {},
   "outputs": [
    {
     "data": {
      "text/plain": [
       "0    0.0\n",
       "Name: stars, dtype: float64"
      ]
     },
     "execution_count": 50,
     "metadata": {},
     "output_type": "execute_result"
    }
   ],
   "source": [
    "df['stars'].mode()"
   ]
  },
  {
   "cell_type": "markdown",
   "id": "b4a3ade1",
   "metadata": {},
   "source": [
    "Measures of Dispersion:\n",
    "\n",
    "Determine the variance, standard deviation, and interquartile range for product rating.\n",
    "Are the ratings consistent, or is there a wide variation in customer feedback?\n",
    "\n",
    "Their is a wide variation on the customer feedback for waht we can se in the data. "
   ]
  },
  {
   "cell_type": "code",
   "execution_count": 51,
   "id": "f08f96ba",
   "metadata": {},
   "outputs": [
    {
     "data": {
      "text/plain": [
       "4.81743402976196"
      ]
     },
     "execution_count": 51,
     "metadata": {},
     "output_type": "execute_result"
    }
   ],
   "source": [
    "df['stars'].var()"
   ]
  },
  {
   "cell_type": "code",
   "execution_count": 52,
   "id": "22b4a7d3",
   "metadata": {},
   "outputs": [
    {
     "data": {
      "text/plain": [
       "2.1948653785054697"
      ]
     },
     "execution_count": 52,
     "metadata": {},
     "output_type": "execute_result"
    }
   ],
   "source": [
    "df['stars'].std()"
   ]
  },
  {
   "cell_type": "code",
   "execution_count": 53,
   "id": "0b62cea7",
   "metadata": {},
   "outputs": [
    {
     "data": {
      "text/plain": [
       "5.0"
      ]
     },
     "execution_count": 53,
     "metadata": {},
     "output_type": "execute_result"
    }
   ],
   "source": [
    "range_ratings = df['stars'].max()-df['stars'].min()\n",
    "range_ratings"
   ]
  },
  {
   "cell_type": "code",
   "execution_count": 13,
   "id": "9fc7c9d7",
   "metadata": {},
   "outputs": [
    {
     "data": {
      "text/plain": [
       "4.4"
      ]
     },
     "execution_count": 13,
     "metadata": {},
     "output_type": "execute_result"
    }
   ],
   "source": [
    "IQR = df['stars'].quantile( 0.75)-df['stars'].quantile( 0.25)\n",
    "IQR"
   ]
  },
  {
   "cell_type": "markdown",
   "id": "a6c33249",
   "metadata": {},
   "source": [
    "Shape of the Distribution:\n",
    "\n",
    "Calculate the skewness and kurtosis for the rating column.\n",
    "Are the ratings normally distributed, or do they lean towards higher or lower values?\n",
    "\n",
    "The ratings mostly lean torwards lower values. "
   ]
  },
  {
   "cell_type": "code",
   "execution_count": 56,
   "id": "061e3f76",
   "metadata": {},
   "outputs": [
    {
     "data": {
      "text/plain": [
       "0.08120735761080985"
      ]
     },
     "execution_count": 56,
     "metadata": {},
     "output_type": "execute_result"
    }
   ],
   "source": [
    "skewness_ratings = df['stars'].skew()\n",
    "skewness_ratings"
   ]
  },
  {
   "cell_type": "code",
   "execution_count": 57,
   "id": "a4cd8822",
   "metadata": {},
   "outputs": [
    {
     "data": {
      "text/plain": [
       "-1.9260061280432985"
      ]
     },
     "execution_count": 57,
     "metadata": {},
     "output_type": "execute_result"
    }
   ],
   "source": [
    "kurtosis_ratings = df['stars'].kurtosis()\n",
    "kurtosis_ratings"
   ]
  },
  {
   "cell_type": "markdown",
   "id": "333ab09b",
   "metadata": {},
   "source": [
    "Visualizations:\n",
    "\n",
    "Plot a histogram to visualize the distribution of product ratings. Is there a specific rating that is more common?\n",
    "\n",
    "No rating is the most common, but also 5.00 is second. "
   ]
  },
  {
   "cell_type": "code",
   "execution_count": 60,
   "id": "bb40f185",
   "metadata": {},
   "outputs": [
    {
     "data": {
      "text/plain": [
       "<Axes: xlabel='stars', ylabel='Count'>"
      ]
     },
     "execution_count": 60,
     "metadata": {},
     "output_type": "execute_result"
    },
    {
     "data": {
      "image/png": "[encoded data removed]",
      "text/plain": [
       "<Figure size 640x480 with 1 Axes>"
      ]
     },
     "metadata": {},
     "output_type": "display_data"
    }
   ],
   "source": [
    "sns.histplot(df['stars'], kde=True, bins=10, color=\"salmon\")"
   ]
  }
 ],
 "metadata": {
  "kernelspec": {
   "display_name": "Python 3 (ipykernel)",
   "language": "python",
   "name": "python3"
  },
  "language_info": {
   "codemirror_mode": {
    "name": "ipython",
    "version": 3
   },
   "file_extension": ".py",
   "mimetype": "text/x-python",
   "name": "python",
   "nbconvert_exporter": "python",
   "pygments_lexer": "ipython3",
   "version": "3.11.5"
  }
 },
 "nbformat": 4,
 "nbformat_minor": 5
}
